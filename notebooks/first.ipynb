{
 "cells": [
  {
   "cell_type": "code",
   "execution_count": 12,
   "id": "d904429b",
   "metadata": {},
   "outputs": [],
   "source": [
    "import numpy as np\n",
    "import matplotlib.pyplot as plt"
   ]
  },
  {
   "cell_type": "code",
   "execution_count": 13,
   "id": "d67d95f3",
   "metadata": {},
   "outputs": [
    {
     "name": "stdout",
     "output_type": "stream",
     "text": [
      "[0.03 0.19 0.34 0.46 0.78 0.81 1.08 1.18 1.39 1.6  1.65 1.9 ]\n",
      "[0.67 0.85 1.05 1.   1.4  1.5  1.3  1.54 1.55 1.68 1.73 1.6 ]\n"
     ]
    }
   ],
   "source": [
    "# input / output data\n",
    "x = np.array([0.03, 0.19, 0.34, 0.46, 0.78, 0.81, 1.08, 1.18, 1.39, 1.60, 1.65, 1.90])\n",
    "y = np.array([0.67, 0.85, 1.05, 1.0, 1.40, 1.5, 1.3, 1.54, 1.55, 1.68, 1.73, 1.6 ])\n",
    "\n",
    "print(x)\n",
    "print(y)"
   ]
  },
  {
   "cell_type": "code",
   "execution_count": 14,
   "id": "904ac816",
   "metadata": {},
   "outputs": [],
   "source": [
    "# define 1D linear regression model\n",
    "def f(x, phi0, phi1):\n",
    "    y = phi0 + phi1 * x\n",
    "    return y"
   ]
  },
  {
   "cell_type": "code",
   "execution_count": 15,
   "id": "4ea4b11f",
   "metadata": {},
   "outputs": [],
   "source": [
    "# Функция для построения графика\n",
    "def plot(x, y, phi0, phi1):\n",
    "    fig,ax = plt.subplots()\n",
    "    ax.scatter(x,y)\n",
    "    plt.xlim([0,2.0])\n",
    "    plt.ylim([0,2.0])\n",
    "    ax.set_xlabel('Input, ')\n",
    "    ax.set_ylabel('Output, ')\n",
    "    # Draw line\n",
    "    x_line = np.arange(0,2,0.01)\n",
    "    y_line = f(x_line, phi0, phi1)\n",
    "    plt.plot(x_line, y_line,'b-',lw=2)\n",
    "    plt.show()\n"
   ]
  },
  {
   "cell_type": "code",
   "execution_count": null,
   "id": "b60be107",
   "metadata": {},
   "outputs": [
    {
     "name": "stdout",
     "output_type": "stream",
     "text": [
      "Оптимальные параметры:\n",
      "phi0 (свободный член) = 0.826\n",
      "phi1 (коэффициент наклона) = 0.522\n"
     ]
    },
    {
     "data": {
      "image/png": "[encoded data removed]",
      "text/plain": [
       "<Figure size 640x480 with 1 Axes>"
      ]
     },
     "metadata": {},
     "output_type": "display_data"
    }
   ],
   "source": [
    "# Вычисляем оптимальные параметры линейной регрессии методом наименьших квадратов\n",
    "# phi1 = (n*sum(xy) - sum(x)*sum(y)) / (n*sum(x^2) - sum(x)^2)\n",
    "# phi0 = (sum(y) - phi1*sum(x)) / n\n",
    "\n",
    "n = len(x)\n",
    "sum_x = np.sum(x)\n",
    "sum_y = np.sum(y)\n",
    "sum_xy = np.sum(x * y)\n",
    "sum_x2 = np.sum(x * x)\n",
    "\n",
    "phi1 = (n * sum_xy - sum_x * sum_y) / (n * sum_x2 - sum_x * sum_x)\n",
    "phi0 = (sum_y - phi1 * sum_x) / n\n",
    "\n",
    "print(f\"Оптимальные параметры:\")\n",
    "print(f\"phi0 (свободный член) = {phi0:.3f}\")\n",
    "print(f\"phi1 (коэффициент наклона) = {phi1:.3f}\")\n",
    "\n",
    "# Теперь строим график с правильными параметрами\n",
    "plot(x, y, phi0, phi1)\n"
   ]
  },
  {
   "cell_type": "code",
   "execution_count": 17,
   "id": "ba505e05",
   "metadata": {},
   "outputs": [],
   "source": [
    "# creating loss-function (MSE)\n",
    "def compute_loss(x, y, phi0, phi1):\n",
    "    '''\n",
    "      x: Массив входных признаков (numpy array)\n",
    "      y: Массив реальных целевых значений (numpy array)\n",
    "      phi0: Текущее значение свободного члена (intercept)\n",
    "      phi1: Текущее значение коэффициента (slope)\n",
    "    '''\n",
    "    predictions = f(x, phi0, phi1)\n",
    "    errors = predictions - y\n",
    "    loss = np.mean(errors ** 2)\n",
    "    return loss"
   ]
  },
  {
   "cell_type": "code",
   "execution_count": 18,
   "id": "921993fb",
   "metadata": {},
   "outputs": [
    {
     "name": "stdout",
     "output_type": "stream",
     "text": [
      "0.016655529744520784\n"
     ]
    }
   ],
   "source": [
    "loss_value = compute_loss(x, y, phi0, phi1)\n",
    "print(loss_value)"
   ]
  }
 ],
 "metadata": {
  "kernelspec": {
   "display_name": "udl",
   "language": "python",
   "name": "python3"
  },
  "language_info": {
   "codemirror_mode": {
    "name": "ipython",
    "version": 3
   },
   "file_extension": ".py",
   "mimetype": "text/x-python",
   "name": "python",
   "nbconvert_exporter": "python",
   "pygments_lexer": "ipython3",
   "version": "3.13.7"
  }
 },
 "nbformat": 4,
 "nbformat_minor": 5
}
